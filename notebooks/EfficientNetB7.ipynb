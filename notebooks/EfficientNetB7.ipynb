{
 "cells": [
  {
   "cell_type": "code",
   "execution_count": 19,
   "metadata": {
    "id": "rTDL0ZKYWMqb"
   },
   "outputs": [],
   "source": [
    "import pandas as pd\n",
    "import numpy as np\n",
    "import matplotlib.pyplot as plt\n",
    "import os\n",
    "import PIL.Image\n",
    "import saliency.core as saliency\n",
    "\n",
    "from tensorflow import convert_to_tensor, GradientTape\n",
    "from tensorflow.math import confusion_matrix\n",
    "from tensorflow.keras.preprocessing.image import ImageDataGenerator\n",
    "from tensorflow.keras.layers import GlobalAveragePooling2D, Dense\n",
    "from tensorflow.keras import Sequential\n",
    "from tensorflow.keras.optimizers import SGD\n",
    "from tensorflow.keras.models import load_model\n",
    "\n",
    "#from tensorflow.keras.applications.efficientnet_v2 import preprocess_input\n",
    "#from tensorflow.keras.applications.efficientnet_v2 import EfficientNetV2B3\n",
    "from tensorflow.keras.applications.efficientnet import EfficientNetB7, preprocess_input\n",
    "from tensorflow.keras.callbacks import LearningRateScheduler, ReduceLROnPlateau, EarlyStopping\n",
    "from tensorflow.keras.optimizers import SGD, Adam\n",
    "from tensorflow.keras.losses import SparseCategoricalCrossentropy, Huber\n",
    "\n",
    "import warnings\n",
    "warnings.filterwarnings(\"ignore\")\n",
    "\n",
    "%matplotlib inline"
   ]
  },
  {
   "cell_type": "code",
   "execution_count": 2,
   "metadata": {
    "colab": {
     "base_uri": "https://localhost:8080/"
    },
    "id": "nxU9h9AfIQHK",
    "outputId": "04cddfc7-3d4b-41d5-97cc-58ebf22e0035"
   },
   "outputs": [],
   "source": [
    "#from google.colab import drive\n",
    "#drive.mount('/content/drive')"
   ]
  },
  {
   "cell_type": "code",
   "execution_count": 3,
   "metadata": {
    "id": "IakC0kx8W500"
   },
   "outputs": [],
   "source": [
    "#PATH_TO_DATA = 'drive/MyDrive/Projet DataScientest/annotated_regions/'\n",
    "PATH_TO_DATA = 'C:/Users/gaelp/Documents/Projet_DataScientest/data/raw/annotated_regions/'"
   ]
  },
  {
   "cell_type": "code",
   "execution_count": 4,
   "metadata": {
    "colab": {
     "base_uri": "https://localhost:8080/",
     "height": 206
    },
    "id": "8iw5ceQ6Hpou",
    "outputId": "ce41782e-33b9-4932-c350-e9606e8e2878"
   },
   "outputs": [
    {
     "data": {
      "text/html": [
       "<div>\n",
       "<style scoped>\n",
       "    .dataframe tbody tr th:only-of-type {\n",
       "        vertical-align: middle;\n",
       "    }\n",
       "\n",
       "    .dataframe tbody tr th {\n",
       "        vertical-align: top;\n",
       "    }\n",
       "\n",
       "    .dataframe thead th {\n",
       "        text-align: right;\n",
       "    }\n",
       "</style>\n",
       "<table border=\"1\" class=\"dataframe\">\n",
       "  <thead>\n",
       "    <tr style=\"text-align: right;\">\n",
       "      <th></th>\n",
       "      <th>filename</th>\n",
       "      <th>binary_class</th>\n",
       "      <th>annotation_class</th>\n",
       "    </tr>\n",
       "  </thead>\n",
       "  <tbody>\n",
       "    <tr>\n",
       "      <th>0</th>\n",
       "      <td>C01_B003_S01_0.jpeg</td>\n",
       "      <td>1</td>\n",
       "      <td>1</td>\n",
       "    </tr>\n",
       "    <tr>\n",
       "      <th>1</th>\n",
       "      <td>C01_B003_S01_1.jpeg</td>\n",
       "      <td>1</td>\n",
       "      <td>1</td>\n",
       "    </tr>\n",
       "    <tr>\n",
       "      <th>2</th>\n",
       "      <td>C01_B003_S01_2.jpeg</td>\n",
       "      <td>1</td>\n",
       "      <td>1</td>\n",
       "    </tr>\n",
       "    <tr>\n",
       "      <th>3</th>\n",
       "      <td>C01_B003_S01_3.jpeg</td>\n",
       "      <td>1</td>\n",
       "      <td>1</td>\n",
       "    </tr>\n",
       "    <tr>\n",
       "      <th>4</th>\n",
       "      <td>C01_B008_S01_0.jpeg</td>\n",
       "      <td>0</td>\n",
       "      <td>0</td>\n",
       "    </tr>\n",
       "  </tbody>\n",
       "</table>\n",
       "</div>"
      ],
      "text/plain": [
       "              filename  binary_class  annotation_class\n",
       "0  C01_B003_S01_0.jpeg             1                 1\n",
       "1  C01_B003_S01_1.jpeg             1                 1\n",
       "2  C01_B003_S01_2.jpeg             1                 1\n",
       "3  C01_B003_S01_3.jpeg             1                 1\n",
       "4  C01_B008_S01_0.jpeg             0                 0"
      ]
     },
     "execution_count": 4,
     "metadata": {},
     "output_type": "execute_result"
    }
   ],
   "source": [
    "df = pd.read_csv('C:/Users/gaelp/Documents/Projet_DataScientest/data/raw/label_df.csv')\n",
    "df.head()"
   ]
  },
  {
   "cell_type": "code",
   "execution_count": 5,
   "metadata": {
    "id": "Gohn9jShI3S6"
   },
   "outputs": [],
   "source": [
    "df['filename'] = PATH_TO_DATA + df['filename']\n",
    "df['class'] = df['annotation_class'].astype('string')\n",
    "df = df[['filename', 'class']]"
   ]
  },
  {
   "cell_type": "code",
   "execution_count": 6,
   "metadata": {},
   "outputs": [],
   "source": [
    "df_train=df.sample(frac=0.80, random_state=21).copy()\n",
    "df_test=df.drop(df_train.index).copy()"
   ]
  },
  {
   "cell_type": "code",
   "execution_count": 7,
   "metadata": {
    "colab": {
     "base_uri": "https://localhost:8080/"
    },
    "id": "LFcUSo-NJpHh",
    "outputId": "62d645f5-be48-49b4-fae6-98b143d21845"
   },
   "outputs": [
    {
     "name": "stdout",
     "output_type": "stream",
     "text": [
      "Found 3793 validated image filenames belonging to 4 classes.\n",
      "Found 948 validated image filenames belonging to 4 classes.\n",
      "Found 1185 validated image filenames belonging to 4 classes.\n"
     ]
    }
   ],
   "source": [
    "train_data_generator = ImageDataGenerator(preprocessing_function=preprocess_input,\n",
    "                                          #rescale=1 / 255.0,\n",
    "                                          rotation_range=90,\n",
    "                                          width_shift_range=0.1, \n",
    "                                          height_shift_range=0.1,\n",
    "                                          zoom_range=0.1,\n",
    "                                          horizontal_flip=True,\n",
    "                                          vertical_flip=True,\n",
    "                                          validation_split=0.2,\n",
    "                                          fill_mode = \"constant\",\n",
    "                                          cval=255)\n",
    "\n",
    "test_data_generator = ImageDataGenerator(preprocessing_function=preprocess_input)\n",
    "\n",
    "train_generator = train_data_generator.flow_from_dataframe(df_train, \n",
    "                                                           class_mode=\"sparse\",\n",
    "                                                           subset=\"training\"                                                         \n",
    "                                                          )\n",
    "\n",
    "validation_generator = train_data_generator.flow_from_dataframe(df_train, \n",
    "                                                           class_mode=\"sparse\",\n",
    "                                                           subset=\"validation\"                                                            \n",
    "                                                          )\n",
    "\n",
    "test_generator = test_data_generator.flow_from_dataframe(df_test,\n",
    "                                                         batch_size=1,\n",
    "                                                         class_mode=\"sparse\",\n",
    "                                                         shuffle=False,\n",
    "                                                    )"
   ]
  },
  {
   "cell_type": "code",
   "execution_count": 8,
   "metadata": {
    "colab": {
     "base_uri": "https://localhost:8080/"
    },
    "id": "jrkVX3LEMJDe",
    "outputId": "27bda88f-d529-4841-d8dc-f7a09087766b"
   },
   "outputs": [
    {
     "name": "stdout",
     "output_type": "stream",
     "text": [
      "Model: \"sequential\"\n",
      "_________________________________________________________________\n",
      "Layer (type)                 Output Shape              Param #   \n",
      "=================================================================\n",
      "efficientnetb7 (Functional)  (None, 8, 8, 2560)        64097687  \n",
      "_________________________________________________________________\n",
      "global_average_pooling2d (Gl (None, 2560)              0         \n",
      "_________________________________________________________________\n",
      "dense (Dense)                (None, 4)                 10244     \n",
      "=================================================================\n",
      "Total params: 64,107,931\n",
      "Trainable params: 10,244\n",
      "Non-trainable params: 64,097,687\n",
      "_________________________________________________________________\n"
     ]
    }
   ],
   "source": [
    "model_effnet = EfficientNetB7(include_top=False, \n",
    "                              input_shape=(256,256,3)\n",
    "                             )\n",
    "\n",
    "model_effnet.trainable = False  \n",
    "\n",
    "model = Sequential()\n",
    "model.add(model_effnet) \n",
    "model.add(GlobalAveragePooling2D())\n",
    "#model.add(Dense(512, activation=\"relu\"))\n",
    "model.add(Dense(4, activation=\"softmax\"))\n",
    "model.summary()"
   ]
  },
  {
   "cell_type": "code",
   "execution_count": 10,
   "metadata": {
    "colab": {
     "base_uri": "https://localhost:8080/"
    },
    "id": "ki--Jy13Mp6V",
    "outputId": "82321086-d8db-4c71-d056-3c537c2d564d"
   },
   "outputs": [
    {
     "name": "stdout",
     "output_type": "stream",
     "text": [
      "Epoch 1/25\n",
      "119/119 [==============================] - 135s 995ms/step - loss: 1.0287 - accuracy: 0.5600 - val_loss: 0.8867 - val_accuracy: 0.6245\n",
      "Epoch 2/25\n",
      "119/119 [==============================] - 107s 895ms/step - loss: 0.9145 - accuracy: 0.6188 - val_loss: 0.9104 - val_accuracy: 0.6403\n",
      "Epoch 3/25\n",
      "119/119 [==============================] - 109s 909ms/step - loss: 0.8768 - accuracy: 0.6335 - val_loss: 0.8477 - val_accuracy: 0.6487\n",
      "Epoch 4/25\n",
      "119/119 [==============================] - 108s 902ms/step - loss: 0.8467 - accuracy: 0.6557 - val_loss: 0.8722 - val_accuracy: 0.6276\n",
      "Epoch 5/25\n",
      "119/119 [==============================] - 110s 920ms/step - loss: 0.8599 - accuracy: 0.6525 - val_loss: 0.9696 - val_accuracy: 0.5949\n",
      "Epoch 6/25\n",
      "119/119 [==============================] - 110s 918ms/step - loss: 0.8213 - accuracy: 0.6662 - val_loss: 0.9035 - val_accuracy: 0.6498\n",
      "Epoch 7/25\n",
      "119/119 [==============================] - 111s 929ms/step - loss: 0.7565 - accuracy: 0.6968 - val_loss: 0.7982 - val_accuracy: 0.6730\n",
      "Epoch 8/25\n",
      "119/119 [==============================] - 110s 919ms/step - loss: 0.7344 - accuracy: 0.7005 - val_loss: 0.7919 - val_accuracy: 0.6624\n",
      "Epoch 9/25\n",
      "119/119 [==============================] - 114s 956ms/step - loss: 0.7416 - accuracy: 0.6960 - val_loss: 0.7848 - val_accuracy: 0.6751\n",
      "Epoch 10/25\n",
      "119/119 [==============================] - 112s 942ms/step - loss: 0.7262 - accuracy: 0.7095 - val_loss: 0.8134 - val_accuracy: 0.6677\n",
      "Epoch 11/25\n",
      "119/119 [==============================] - 108s 906ms/step - loss: 0.7416 - accuracy: 0.6952 - val_loss: 0.7970 - val_accuracy: 0.6709\n",
      "Epoch 12/25\n",
      "119/119 [==============================] - 108s 903ms/step - loss: 0.7228 - accuracy: 0.7129 - val_loss: 0.7782 - val_accuracy: 0.6793\n",
      "Epoch 13/25\n",
      "119/119 [==============================] - 109s 909ms/step - loss: 0.7085 - accuracy: 0.7081 - val_loss: 0.7689 - val_accuracy: 0.6857\n",
      "Epoch 14/25\n",
      "119/119 [==============================] - 107s 899ms/step - loss: 0.7204 - accuracy: 0.7084 - val_loss: 0.7843 - val_accuracy: 0.6614\n",
      "Epoch 15/25\n",
      "119/119 [==============================] - 107s 899ms/step - loss: 0.7100 - accuracy: 0.7089 - val_loss: 0.7890 - val_accuracy: 0.6624\n",
      "Epoch 16/25\n",
      "119/119 [==============================] - 108s 902ms/step - loss: 0.7152 - accuracy: 0.7137 - val_loss: 0.8274 - val_accuracy: 0.6424\n",
      "Epoch 17/25\n",
      "119/119 [==============================] - 110s 921ms/step - loss: 0.6891 - accuracy: 0.7226 - val_loss: 0.7713 - val_accuracy: 0.6814\n",
      "Epoch 18/25\n",
      "119/119 [==============================] - 110s 918ms/step - loss: 0.7031 - accuracy: 0.7145 - val_loss: 0.7744 - val_accuracy: 0.6920\n",
      "Epoch 19/25\n",
      "119/119 [==============================] - 112s 935ms/step - loss: 0.7085 - accuracy: 0.7047 - val_loss: 0.7902 - val_accuracy: 0.6741\n",
      "Epoch 20/25\n",
      "119/119 [==============================] - 110s 923ms/step - loss: 0.6893 - accuracy: 0.7245 - val_loss: 0.7694 - val_accuracy: 0.6730\n",
      "Epoch 21/25\n",
      "119/119 [==============================] - 111s 934ms/step - loss: 0.6757 - accuracy: 0.7274 - val_loss: 0.7966 - val_accuracy: 0.6730\n",
      "Epoch 22/25\n",
      "119/119 [==============================] - 110s 924ms/step - loss: 0.6888 - accuracy: 0.7287 - val_loss: 0.7599 - val_accuracy: 0.6920\n",
      "Epoch 23/25\n",
      "119/119 [==============================] - 112s 936ms/step - loss: 0.6738 - accuracy: 0.7182 - val_loss: 0.7535 - val_accuracy: 0.6783\n",
      "Epoch 24/25\n",
      "119/119 [==============================] - 110s 923ms/step - loss: 0.6773 - accuracy: 0.7266 - val_loss: 0.7739 - val_accuracy: 0.6709\n",
      "Epoch 25/25\n",
      "119/119 [==============================] - 113s 944ms/step - loss: 0.6916 - accuracy: 0.7258 - val_loss: 0.7605 - val_accuracy: 0.6751\n"
     ]
    }
   ],
   "source": [
    "model.compile(optimizer=Adam(learning_rate=5e-3), \n",
    "              loss=SparseCategoricalCrossentropy(), \n",
    "              metrics=['accuracy'])\n",
    "\n",
    "reduce_lr = ReduceLROnPlateau(monitor='val_loss', \n",
    "                              factor=0.3,\n",
    "                              patience=3)\n",
    "\n",
    "history = model.fit(train_generator,\n",
    "                    epochs=25, \n",
    "                    #workers=-1, \n",
    "                    #use_multiprocessing=True,\n",
    "                    validation_data=validation_generator, \n",
    "                    callbacks=[reduce_lr]\n",
    "                    )"
   ]
  },
  {
   "cell_type": "code",
   "execution_count": 12,
   "metadata": {},
   "outputs": [],
   "source": [
    "model.save(\"C:/Users/gaelp/Documents/Projet_DataScientest/EfficientNetB7.h5\")"
   ]
  },
  {
   "cell_type": "code",
   "execution_count": 14,
   "metadata": {},
   "outputs": [
    {
     "name": "stdout",
     "output_type": "stream",
     "text": [
      "1185/1185 - 42s - loss: 0.8402 - accuracy: 0.6565\n",
      "Untrained model, accuracy: 65.65%\n"
     ]
    }
   ],
   "source": [
    "# Evaluate the model\n",
    "loss, acc = model.evaluate(test_generator, verbose=2)\n",
    "print(\"Untrained model, accuracy: {:5.2f}%\".format(100 * acc))"
   ]
  },
  {
   "cell_type": "code",
   "execution_count": 15,
   "metadata": {},
   "outputs": [
    {
     "data": {
      "image/png": "[encoded data removed]",
      "text/plain": [
       "<Figure size 432x288 with 1 Axes>"
      ]
     },
     "metadata": {
      "needs_background": "light"
     },
     "output_type": "display_data"
    },
    {
     "data": {
      "text/plain": [
       "<Figure size 432x288 with 0 Axes>"
      ]
     },
     "metadata": {},
     "output_type": "display_data"
    }
   ],
   "source": [
    "# Plot the results\n",
    "acc = history.history['accuracy']\n",
    "val_acc = history.history['val_accuracy']\n",
    "loss = history.history['loss']\n",
    "val_loss = history.history['val_loss']\n",
    "\n",
    "epochs = range(len(acc))\n",
    "\n",
    "plt.plot(epochs, acc, 'r', label='Training accuracy')\n",
    "plt.plot(epochs, val_acc, 'b', label='Validation accuracy')\n",
    "plt.title('Training and validation accuracy')\n",
    "plt.legend(loc=0)\n",
    "plt.figure()\n",
    "\n",
    "plt.show()"
   ]
  },
  {
   "cell_type": "code",
   "execution_count": 16,
   "metadata": {},
   "outputs": [],
   "source": [
    "model = load_model('C:/Users/gaelp/Documents/Projet_DataScientest/EfficientNetB7.h5')"
   ]
  },
  {
   "cell_type": "code",
   "execution_count": 28,
   "metadata": {},
   "outputs": [],
   "source": [
    "y_true = test_generator.classes\n",
    "predict = model.predict_generator(test_generator) # remove steps if calculate to whole dataset\n",
    "y_pred = np.argmax(predict, axis = 1)"
   ]
  },
  {
   "cell_type": "code",
   "execution_count": 29,
   "metadata": {},
   "outputs": [
    {
     "name": "stdout",
     "output_type": "stream",
     "text": [
      "Confusion matrix:\n",
      "[[285  49  29  33]\n",
      " [ 94 127  56  29]\n",
      " [ 37  32 134  35]\n",
      " [  4   7   8 226]]\n",
      "\n",
      "Quadratic weighted Cohen's kappa = 0.6923\n",
      "\n",
      "Classification report:\n",
      "              precision    recall  f1-score   support\n",
      "\n",
      "           0       0.68      0.72      0.70       396\n",
      "           1       0.59      0.42      0.49       306\n",
      "           2       0.59      0.56      0.58       238\n",
      "           3       0.70      0.92      0.80       245\n",
      "\n",
      "    accuracy                           0.65      1185\n",
      "   macro avg       0.64      0.66      0.64      1185\n",
      "weighted avg       0.64      0.65      0.64      1185\n",
      "\n",
      "\n"
     ]
    }
   ],
   "source": [
    "# Calculate and print the metrics results\n",
    "from sklearn.metrics import confusion_matrix, cohen_kappa_score, classification_report\n",
    "\n",
    "cm = confusion_matrix(y_true, y_pred)\n",
    "print('Confusion matrix:')\n",
    "print(cm)\n",
    "print('')\n",
    "\n",
    "k = cohen_kappa_score(y_true, y_pred, weights = 'quadratic')\n",
    "print(\"Quadratic weighted Cohen's kappa = {:.4f}\".format(k))\n",
    "print('')\n",
    "\n",
    "cr = classification_report(y_true, y_pred)\n",
    "print('Classification report:')\n",
    "print(cr)\n",
    "print('')"
   ]
  },
  {
   "cell_type": "markdown",
   "metadata": {},
   "source": [
    "# 2. Learning rate tuning"
   ]
  },
  {
   "cell_type": "code",
   "execution_count": 8,
   "metadata": {},
   "outputs": [],
   "source": [
    "def create_uncompiled_model():\n",
    "    \n",
    "    model_effnet = EfficientNetB7(include_top=False, \n",
    "                              input_shape=(256,256,3)\n",
    "                              )\n",
    "\n",
    "    model_effnet.trainable = False  \n",
    "\n",
    "    model = Sequential()\n",
    "    model.add(model_effnet) \n",
    "    model.add(GlobalAveragePooling2D())\n",
    "    model.add(Dense(128, activation=\"relu\"))\n",
    "    model.add(Dense(4, activation=\"softmax\"))\n",
    "\n",
    "    return model"
   ]
  },
  {
   "cell_type": "code",
   "execution_count": 19,
   "metadata": {},
   "outputs": [],
   "source": [
    "def adjust_learning_rate():\n",
    "    \n",
    "    model = create_uncompiled_model()\n",
    "    \n",
    "    early_stop = EarlyStopping(monitor='loss', patience=5)\n",
    "    lr_schedule = LearningRateScheduler(lambda epoch: 1e-3 * 10**(epoch / 20))\n",
    "    \n",
    "    # Select your optimizer\n",
    "    optimizer = Adam()\n",
    "    \n",
    "    # Compile the model passing in the appropriate loss\n",
    "    model.compile(loss='sparse_categorical_crossentropy', #tensorflow.keras.losses.Huber(),\n",
    "                  optimizer=optimizer, \n",
    "                  metrics=[\"accuracy\"]) \n",
    "    \n",
    "    history = model.fit(train_generator, epochs=100, callbacks=[lr_schedule, early_stop])\n",
    "    \n",
    "    return history"
   ]
  },
  {
   "cell_type": "code",
   "execution_count": 11,
   "metadata": {},
   "outputs": [
    {
     "name": "stdout",
     "output_type": "stream",
     "text": [
      "Epoch 1/100\n",
      "149/149 [==============================] - 128s 721ms/step - loss: 0.9928 - accuracy: 0.5765\n",
      "Epoch 2/100\n",
      "149/149 [==============================] - 108s 722ms/step - loss: 0.8879 - accuracy: 0.6222\n",
      "Epoch 3/100\n",
      "149/149 [==============================] - 111s 740ms/step - loss: 0.8329 - accuracy: 0.6482\n",
      "Epoch 4/100\n",
      "149/149 [==============================] - 111s 744ms/step - loss: 0.8502 - accuracy: 0.6454\n",
      "Epoch 5/100\n",
      "149/149 [==============================] - 111s 744ms/step - loss: 0.8282 - accuracy: 0.6499\n",
      "Epoch 6/100\n",
      "149/149 [==============================] - 113s 757ms/step - loss: 0.7937 - accuracy: 0.6661\n",
      "Epoch 7/100\n",
      "149/149 [==============================] - 113s 756ms/step - loss: 0.7787 - accuracy: 0.6750\n",
      "Epoch 8/100\n",
      "149/149 [==============================] - 113s 757ms/step - loss: 0.7923 - accuracy: 0.6640\n",
      "Epoch 9/100\n",
      "149/149 [==============================] - 112s 750ms/step - loss: 0.7666 - accuracy: 0.6741\n",
      "Epoch 10/100\n",
      "149/149 [==============================] - 113s 753ms/step - loss: 0.7580 - accuracy: 0.6760\n",
      "Epoch 11/100\n",
      "149/149 [==============================] - 113s 756ms/step - loss: 0.7664 - accuracy: 0.6779\n",
      "Epoch 12/100\n",
      "149/149 [==============================] - 114s 760ms/step - loss: 0.7645 - accuracy: 0.6796\n",
      "Epoch 13/100\n",
      "149/149 [==============================] - 112s 748ms/step - loss: 0.7559 - accuracy: 0.6758\n",
      "Epoch 14/100\n",
      "149/149 [==============================] - 116s 777ms/step - loss: 0.7624 - accuracy: 0.6828\n",
      "Epoch 15/100\n",
      "149/149 [==============================] - 113s 758ms/step - loss: 0.7744 - accuracy: 0.6731\n",
      "Epoch 16/100\n",
      "149/149 [==============================] - 114s 761ms/step - loss: 0.7690 - accuracy: 0.6788\n"
     ]
    }
   ],
   "source": [
    "# Run the training with dynamic LR\n",
    "lr_history = adjust_learning_rate()"
   ]
  },
  {
   "cell_type": "code",
   "execution_count": 20,
   "metadata": {},
   "outputs": [
    {
     "data": {
      "image/png": "[encoded data removed]",
      "text/plain": [
       "<Figure size 432x288 with 1 Axes>"
      ]
     },
     "metadata": {
      "needs_background": "light"
     },
     "output_type": "display_data"
    }
   ],
   "source": [
    "# Plot the loss for every LR\n",
    "plt.semilogx(lr_history.history[\"lr\"], \n",
    "             lr_history.history[\"loss\"])\n",
    "plt.axis([np.min(lr_history.history[\"lr\"]), \n",
    "          np.max(lr_history.history[\"lr\"]), \n",
    "          np.min(lr_history.history[\"loss\"]), \n",
    "          np.max(lr_history.history[\"loss\"])]);"
   ]
  }
 ],
 "metadata": {
  "accelerator": "GPU",
  "colab": {
   "name": "EfficientNetB7.ipynb",
   "provenance": []
  },
  "gpuClass": "standard",
  "kernelspec": {
   "display_name": "Python 3 (ipykernel)",
   "language": "python",
   "name": "python3"
  },
  "language_info": {
   "codemirror_mode": {
    "name": "ipython",
    "version": 3
   },
   "file_extension": ".py",
   "mimetype": "text/x-python",
   "name": "python",
   "nbconvert_exporter": "python",
   "pygments_lexer": "ipython3",
   "version": "3.9.7"
  }
 },
 "nbformat": 4,
 "nbformat_minor": 4
}
